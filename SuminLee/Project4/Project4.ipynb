{
  "nbformat": 4,
  "nbformat_minor": 0,
  "metadata": {
    "colab": {
      "provenance": [],
      "authorship_tag": "ABX9TyMQEEJQAT0ylRZKBuPBh6nR",
      "include_colab_link": true
    },
    "kernelspec": {
      "name": "python3",
      "display_name": "Python 3"
    },
    "language_info": {
      "name": "python"
    }
  },
  "cells": [
    {
      "cell_type": "markdown",
      "metadata": {
        "id": "view-in-github",
        "colab_type": "text"
      },
      "source": [
        "<a href=\"https://colab.research.google.com/github/leejae7124/ProjectMountain/blob/master/SuminLee/Project4/Project4.ipynb\" target=\"_parent\"><img src=\"https://colab.research.google.com/assets/colab-badge.svg\" alt=\"Open In Colab\"/></a>"
      ]
    },
    {
      "cell_type": "markdown",
      "source": [
        "# 1.프로젝트 개요\n",
        "**Project 4: 두피 데이터 분석 시스템**\n",
        "1. 두피측정 빅데이터를 이용한 자동진단 및 제품 추천 시스템\n",
        "2. 필요 기술 스택: Python, Python Library(Pillow, Opencv), Deep Learning + Docker file\n",
        "\n",
        "3. 프로세스\n",
        "- json 데이터를 분석하여 증상별 상관관계를 찾는다.\n",
        "- 분석한 결과를 토대로 증상에 맞게 제품을 추천한다."
      ],
      "metadata": {
        "id": "N43D0LyVkVG7"
      }
    },
    {
      "cell_type": "markdown",
      "source": [
        "# 2.일자별 진행 상황\n",
        "1월 16일 작업 계획\n",
        "\n",
        "1) 도커 공부: 이미지와 컨테이너의 개념\n",
        "- image: container의 기본 레시피. 도커 파일을 빌드해서 만들 수 있다.\n",
        "- container: image로 만든 인스턴스\n",
        "\n",
        "\n",
        "2) 데이터 이해하기\n",
        "- 데이터셋 다운로드 및 확인\n",
        "- 무엇을 할 것인지 생각하기 (모델링 방향) => *일단 미세각질 이미지만 단계별 분류*"
      ],
      "metadata": {
        "id": "AfE9W5VmJEVm"
      }
    },
    {
      "cell_type": "markdown",
      "source": [
        "1월 17일\n",
        "\n",
        "1) 무엇을 할 것인지 생각하기\n",
        "- json 데이터를 분석하여 증상별 상관관계를 찾는다.\n",
        "- 분석한 결과가 맞는지 증명한다. (이론 등을 이용)\n",
        "- 증상에 맞게 제품을 추천한다. 이를 위해선 제품에 대한 조사가 필요하다.\n",
        "\n",
        "2) 미세각질, 탈모 데이터 분석\n",
        "- 시각화\n",
        "- 상관관계 분석\n"
      ],
      "metadata": {
        "id": "Fukb-KeBJRjb"
      }
    },
    {
      "cell_type": "markdown",
      "source": [
        "# 3.1 데이터 분석 (미세각질)"
      ],
      "metadata": {
        "id": "aIqvIyp6PhUT"
      }
    },
    {
      "cell_type": "code",
      "execution_count": 1,
      "metadata": {
        "colab": {
          "base_uri": "https://localhost:8080/"
        },
        "id": "Vsq6xeZ6feFP",
        "outputId": "0c118c2e-b8aa-4b4e-c3d7-4461164fda7b"
      },
      "outputs": [
        {
          "output_type": "stream",
          "name": "stdout",
          "text": [
            "Mounted at /content/drive\n"
          ]
        }
      ],
      "source": [
        "from google.colab import drive\n",
        "drive.mount('/content/drive')"
      ]
    },
    {
      "cell_type": "code",
      "source": [
        "#라이브러리\n",
        "from PIL import Image\n",
        "import os\n",
        "import json\n",
        "import pandas as pd\n",
        "from pandas import json_normalize\n",
        "\n",
        "import matplotlib.pyplot as plt\n",
        "import seaborn as sns"
      ],
      "metadata": {
        "id": "34ixjxCV4R5a"
      },
      "execution_count": 2,
      "outputs": []
    },
    {
      "cell_type": "code",
      "source": [
        "%cd /content/drive/MyDrive/Project4/Dataset/라벨_미세각질_0\n",
        "!unzip -qq '/content/drive/MyDrive/Project4/Dataset/[라벨]미세각질_0.양호.zip'"
      ],
      "metadata": {
        "id": "ZCnA4kma3OHP"
      },
      "execution_count": null,
      "outputs": []
    },
    {
      "cell_type": "code",
      "source": [
        "%cd /content/drive/MyDrive/Project4/Dataset/라벨_미세각질_1\n",
        "!unzip -qq '/content/drive/MyDrive/Project4/Dataset/[라벨]미세각질_1.경증.zip'"
      ],
      "metadata": {
        "colab": {
          "base_uri": "https://localhost:8080/"
        },
        "id": "YIP1k1iDeZo4",
        "outputId": "a4e80430-b047-4dc6-d626-d0e9ab89213a"
      },
      "execution_count": null,
      "outputs": [
        {
          "output_type": "stream",
          "name": "stdout",
          "text": [
            "/content/drive/MyDrive/Project4/Dataset/라벨_미세각질_1\n"
          ]
        }
      ]
    },
    {
      "cell_type": "code",
      "source": [
        "%cd /content/drive/MyDrive/Project4/Dataset/라벨_미세각질_2\n",
        "!unzip -qq '/content/drive/MyDrive/Project4/Dataset/[라벨]미세각질_2.중등도.zip'"
      ],
      "metadata": {
        "colab": {
          "base_uri": "https://localhost:8080/"
        },
        "id": "r06SaRXGeZwv",
        "outputId": "eb390776-d412-40ff-be97-53faad67af1d"
      },
      "execution_count": null,
      "outputs": [
        {
          "output_type": "stream",
          "name": "stdout",
          "text": [
            "/content/drive/MyDrive/Project4/Dataset/라벨_미세각질_2\n"
          ]
        }
      ]
    },
    {
      "cell_type": "code",
      "source": [
        "%cd /content/drive/MyDrive/Project4/Dataset/라벨_미세각질_3\n",
        "!unzip -qq '/content/drive/MyDrive/Project4/Dataset/[라벨]미세각질_3.중증.zip'"
      ],
      "metadata": {
        "colab": {
          "base_uri": "https://localhost:8080/"
        },
        "id": "OCCVsWt0ee5U",
        "outputId": "e7486146-a4cf-4268-8a02-1b01380a4799"
      },
      "execution_count": null,
      "outputs": [
        {
          "output_type": "stream",
          "name": "stdout",
          "text": [
            "/content/drive/MyDrive/Project4/Dataset/라벨_미세각질_3\n"
          ]
        }
      ]
    },
    {
      "cell_type": "code",
      "source": [
        "%cd /content/drive/MyDrive/Project4/Dataset/원천_미세각질_0\n",
        "!unzip -qq '/content/drive/MyDrive/Project4/Dataset/[원천]미세각질_0.양호.zip'"
      ],
      "metadata": {
        "colab": {
          "base_uri": "https://localhost:8080/"
        },
        "id": "F6rl4UBY3sM8",
        "outputId": "93512d7b-e1ee-4ca6-c494-bbb675e2a02e"
      },
      "execution_count": null,
      "outputs": [
        {
          "output_type": "stream",
          "name": "stdout",
          "text": [
            "/content/drive/MyDrive/Project4/Dataset/원천_미세각질_0\n"
          ]
        }
      ]
    },
    {
      "cell_type": "code",
      "source": [
        "%cd /content/drive/MyDrive/Project4/Dataset/원천_미세각질_1\n",
        "!unzip -qq '/content/drive/MyDrive/Project4/Dataset/[원천]미세각질_1.경증.zip'"
      ],
      "metadata": {
        "colab": {
          "base_uri": "https://localhost:8080/"
        },
        "id": "VCqLnAvQqn5H",
        "outputId": "8616b10b-9c17-4cea-ee3a-2b5ab94f8c39"
      },
      "execution_count": null,
      "outputs": [
        {
          "output_type": "stream",
          "name": "stdout",
          "text": [
            "/content/drive/MyDrive/Project4/Dataset/원천_미세각질_1\n"
          ]
        }
      ]
    },
    {
      "cell_type": "code",
      "source": [
        "%cd /content/drive/MyDrive/Project4/Dataset/원천_미세각질_2\n",
        "!unzip -qq '/content/drive/MyDrive/Project4/Dataset/[원천]미세각질_2.중등도.zip'"
      ],
      "metadata": {
        "colab": {
          "base_uri": "https://localhost:8080/"
        },
        "id": "gbjbLxiYqoJB",
        "outputId": "51c4bcea-ddc4-4c86-c81e-43e4d7de4a8f"
      },
      "execution_count": null,
      "outputs": [
        {
          "output_type": "stream",
          "name": "stdout",
          "text": [
            "/content/drive/MyDrive/Project4/Dataset/원천_미세각질_2\n"
          ]
        }
      ]
    },
    {
      "cell_type": "code",
      "source": [
        "%cd /content/drive/MyDrive/Project4/Dataset/원천_미세각질_3\n",
        "!unzip -qq '/content/drive/MyDrive/Project4/Dataset/[원천]미세각질_3.중증.zip'"
      ],
      "metadata": {
        "colab": {
          "base_uri": "https://localhost:8080/"
        },
        "id": "_fDim3s0qoVu",
        "outputId": "8b6f68d7-1d6a-4e71-8f69-741ef4212e71"
      },
      "execution_count": null,
      "outputs": [
        {
          "output_type": "stream",
          "name": "stdout",
          "text": [
            "/content/drive/MyDrive/Project4/Dataset/원천_미세각질_3\n"
          ]
        }
      ]
    },
    {
      "cell_type": "code",
      "source": [
        "li_1 = [\"라벨_미세각질_0\", \"라벨_미세각질_1\", \"라벨_미세각질_2\", \"라벨_미세각질_3\"]"
      ],
      "metadata": {
        "id": "w66cinf8fM1T"
      },
      "execution_count": 3,
      "outputs": []
    },
    {
      "cell_type": "code",
      "source": [
        "def openJson(li):\n",
        "  df = pd.DataFrame({'image_id':[], 'image_file_name':[], 'value_1':[],'value_2':[],'value_3':[],'value_4':[], 'value_5':[],'value_6':[]})\n",
        "\n",
        "  for folder in li:\n",
        "\n",
        "    path_jsons = \"/content/drive/MyDrive/Project4/Dataset/\"+folder+\"/\"\n",
        "    print(path_jsons)\n",
        "\n",
        "    json_list = (os.listdir(path_jsons)) #json 파일명 다 담기\n",
        "    print(len(json_list))\n",
        "\n",
        "    for i in range(1, len(json_list)):\n",
        "      example_file = open(path_jsons+json_list[i])\n",
        "      json_file = json.load(example_file)\n",
        "      df2 = pd.DataFrame.from_dict(json_file, orient=\"index\")\n",
        "      df2 = df2.transpose()\n",
        "      df = pd.concat([df,df2], ignore_index = True)\n",
        "\n",
        "  return df"
      ],
      "metadata": {
        "id": "gAvZPSoBqSim"
      },
      "execution_count": 4,
      "outputs": []
    },
    {
      "cell_type": "code",
      "source": [
        "df_1 = openJson(li_1)"
      ],
      "metadata": {
        "id": "GeRrhTS3DfiX",
        "outputId": "f1d26316-d86c-4905-fc4b-0b7b745e963d",
        "colab": {
          "base_uri": "https://localhost:8080/"
        }
      },
      "execution_count": 5,
      "outputs": [
        {
          "output_type": "stream",
          "name": "stdout",
          "text": [
            "/content/drive/MyDrive/Project4/Dataset/라벨_미세각질_0/\n",
            "152\n",
            "/content/drive/MyDrive/Project4/Dataset/라벨_미세각질_1/\n",
            "1267\n",
            "/content/drive/MyDrive/Project4/Dataset/라벨_미세각질_2/\n",
            "1568\n",
            "/content/drive/MyDrive/Project4/Dataset/라벨_미세각질_3/\n",
            "652\n"
          ]
        }
      ]
    },
    {
      "cell_type": "code",
      "source": [
        "df_1"
      ],
      "metadata": {
        "colab": {
          "base_uri": "https://localhost:8080/",
          "height": 424
        },
        "id": "bCZU2o7QdyTN",
        "outputId": "f2c13ab4-09ed-4822-ce02-65b894e2592b"
      },
      "execution_count": 6,
      "outputs": [
        {
          "output_type": "execute_result",
          "data": {
            "text/plain": [
              "                                  image_id  \\\n",
              "0     7978_A2LEBJJDE00071B_1606728948115_4   \n",
              "1     9414_A2LEBJJDE00033L_1605521474634_2   \n",
              "2     7670_A1LCAIHDH000126_1609648809001_6   \n",
              "3     8262_A2LEBJJDE00047M_1602749232911_3   \n",
              "4     9400_A2LEBJJDE00078W_1603685063398_2   \n",
              "...                                    ...   \n",
              "3630  1069_A2LEBJJDE00094D_1607579389669_6   \n",
              "3631  8146_A2LEBJJDE00148A_1607650916866_6   \n",
              "3632  4970_A1LCAIHDH00010K_1608001420956_2   \n",
              "3633  2278_A2LEBJJDE00181Z_1606653240159_2   \n",
              "3634  7366_A2LEBJJDE00088Q_1606891895638_2   \n",
              "\n",
              "                                  image_file_name value_1 value_2 value_3  \\\n",
              "0     7978_A2LEBJJDE00071B_1606728948115_4_LH.jpg       0       0       0   \n",
              "1     9414_A2LEBJJDE00033L_1605521474634_2_TH.jpg       0       0       0   \n",
              "2     7670_A1LCAIHDH000126_1609648809001_6_BH.jpg       0       0       0   \n",
              "3     8262_A2LEBJJDE00047M_1602749232911_3_TH.jpg       0       0       0   \n",
              "4     9400_A2LEBJJDE00078W_1603685063398_2_TH.jpg       0       0       0   \n",
              "...                                           ...     ...     ...     ...   \n",
              "3630  1069_A2LEBJJDE00094D_1607579389669_6_BH.jpg       3       0       0   \n",
              "3631  8146_A2LEBJJDE00148A_1607650916866_6_BH.jpg       3       0       0   \n",
              "3632  4970_A1LCAIHDH00010K_1608001420956_2_TH.jpg       3       0       0   \n",
              "3633  2278_A2LEBJJDE00181Z_1606653240159_2_TH.jpg       3       0       1   \n",
              "3634  7366_A2LEBJJDE00088Q_1606891895638_2_TH.jpg       3       0       0   \n",
              "\n",
              "     value_4 value_5 value_6  \n",
              "0          0       0       0  \n",
              "1          0       0       0  \n",
              "2          0       0       0  \n",
              "3          0       0       0  \n",
              "4          0       0       0  \n",
              "...      ...     ...     ...  \n",
              "3630       0       3       0  \n",
              "3631       0       3       0  \n",
              "3632       0       0       0  \n",
              "3633       0       0       0  \n",
              "3634       0       1       0  \n",
              "\n",
              "[3635 rows x 8 columns]"
            ],
            "text/html": [
              "\n",
              "  <div id=\"df-c4183643-12de-4064-8743-6917a8d34c60\">\n",
              "    <div class=\"colab-df-container\">\n",
              "      <div>\n",
              "<style scoped>\n",
              "    .dataframe tbody tr th:only-of-type {\n",
              "        vertical-align: middle;\n",
              "    }\n",
              "\n",
              "    .dataframe tbody tr th {\n",
              "        vertical-align: top;\n",
              "    }\n",
              "\n",
              "    .dataframe thead th {\n",
              "        text-align: right;\n",
              "    }\n",
              "</style>\n",
              "<table border=\"1\" class=\"dataframe\">\n",
              "  <thead>\n",
              "    <tr style=\"text-align: right;\">\n",
              "      <th></th>\n",
              "      <th>image_id</th>\n",
              "      <th>image_file_name</th>\n",
              "      <th>value_1</th>\n",
              "      <th>value_2</th>\n",
              "      <th>value_3</th>\n",
              "      <th>value_4</th>\n",
              "      <th>value_5</th>\n",
              "      <th>value_6</th>\n",
              "    </tr>\n",
              "  </thead>\n",
              "  <tbody>\n",
              "    <tr>\n",
              "      <th>0</th>\n",
              "      <td>7978_A2LEBJJDE00071B_1606728948115_4</td>\n",
              "      <td>7978_A2LEBJJDE00071B_1606728948115_4_LH.jpg</td>\n",
              "      <td>0</td>\n",
              "      <td>0</td>\n",
              "      <td>0</td>\n",
              "      <td>0</td>\n",
              "      <td>0</td>\n",
              "      <td>0</td>\n",
              "    </tr>\n",
              "    <tr>\n",
              "      <th>1</th>\n",
              "      <td>9414_A2LEBJJDE00033L_1605521474634_2</td>\n",
              "      <td>9414_A2LEBJJDE00033L_1605521474634_2_TH.jpg</td>\n",
              "      <td>0</td>\n",
              "      <td>0</td>\n",
              "      <td>0</td>\n",
              "      <td>0</td>\n",
              "      <td>0</td>\n",
              "      <td>0</td>\n",
              "    </tr>\n",
              "    <tr>\n",
              "      <th>2</th>\n",
              "      <td>7670_A1LCAIHDH000126_1609648809001_6</td>\n",
              "      <td>7670_A1LCAIHDH000126_1609648809001_6_BH.jpg</td>\n",
              "      <td>0</td>\n",
              "      <td>0</td>\n",
              "      <td>0</td>\n",
              "      <td>0</td>\n",
              "      <td>0</td>\n",
              "      <td>0</td>\n",
              "    </tr>\n",
              "    <tr>\n",
              "      <th>3</th>\n",
              "      <td>8262_A2LEBJJDE00047M_1602749232911_3</td>\n",
              "      <td>8262_A2LEBJJDE00047M_1602749232911_3_TH.jpg</td>\n",
              "      <td>0</td>\n",
              "      <td>0</td>\n",
              "      <td>0</td>\n",
              "      <td>0</td>\n",
              "      <td>0</td>\n",
              "      <td>0</td>\n",
              "    </tr>\n",
              "    <tr>\n",
              "      <th>4</th>\n",
              "      <td>9400_A2LEBJJDE00078W_1603685063398_2</td>\n",
              "      <td>9400_A2LEBJJDE00078W_1603685063398_2_TH.jpg</td>\n",
              "      <td>0</td>\n",
              "      <td>0</td>\n",
              "      <td>0</td>\n",
              "      <td>0</td>\n",
              "      <td>0</td>\n",
              "      <td>0</td>\n",
              "    </tr>\n",
              "    <tr>\n",
              "      <th>...</th>\n",
              "      <td>...</td>\n",
              "      <td>...</td>\n",
              "      <td>...</td>\n",
              "      <td>...</td>\n",
              "      <td>...</td>\n",
              "      <td>...</td>\n",
              "      <td>...</td>\n",
              "      <td>...</td>\n",
              "    </tr>\n",
              "    <tr>\n",
              "      <th>3630</th>\n",
              "      <td>1069_A2LEBJJDE00094D_1607579389669_6</td>\n",
              "      <td>1069_A2LEBJJDE00094D_1607579389669_6_BH.jpg</td>\n",
              "      <td>3</td>\n",
              "      <td>0</td>\n",
              "      <td>0</td>\n",
              "      <td>0</td>\n",
              "      <td>3</td>\n",
              "      <td>0</td>\n",
              "    </tr>\n",
              "    <tr>\n",
              "      <th>3631</th>\n",
              "      <td>8146_A2LEBJJDE00148A_1607650916866_6</td>\n",
              "      <td>8146_A2LEBJJDE00148A_1607650916866_6_BH.jpg</td>\n",
              "      <td>3</td>\n",
              "      <td>0</td>\n",
              "      <td>0</td>\n",
              "      <td>0</td>\n",
              "      <td>3</td>\n",
              "      <td>0</td>\n",
              "    </tr>\n",
              "    <tr>\n",
              "      <th>3632</th>\n",
              "      <td>4970_A1LCAIHDH00010K_1608001420956_2</td>\n",
              "      <td>4970_A1LCAIHDH00010K_1608001420956_2_TH.jpg</td>\n",
              "      <td>3</td>\n",
              "      <td>0</td>\n",
              "      <td>0</td>\n",
              "      <td>0</td>\n",
              "      <td>0</td>\n",
              "      <td>0</td>\n",
              "    </tr>\n",
              "    <tr>\n",
              "      <th>3633</th>\n",
              "      <td>2278_A2LEBJJDE00181Z_1606653240159_2</td>\n",
              "      <td>2278_A2LEBJJDE00181Z_1606653240159_2_TH.jpg</td>\n",
              "      <td>3</td>\n",
              "      <td>0</td>\n",
              "      <td>1</td>\n",
              "      <td>0</td>\n",
              "      <td>0</td>\n",
              "      <td>0</td>\n",
              "    </tr>\n",
              "    <tr>\n",
              "      <th>3634</th>\n",
              "      <td>7366_A2LEBJJDE00088Q_1606891895638_2</td>\n",
              "      <td>7366_A2LEBJJDE00088Q_1606891895638_2_TH.jpg</td>\n",
              "      <td>3</td>\n",
              "      <td>0</td>\n",
              "      <td>0</td>\n",
              "      <td>0</td>\n",
              "      <td>1</td>\n",
              "      <td>0</td>\n",
              "    </tr>\n",
              "  </tbody>\n",
              "</table>\n",
              "<p>3635 rows × 8 columns</p>\n",
              "</div>\n",
              "      <button class=\"colab-df-convert\" onclick=\"convertToInteractive('df-c4183643-12de-4064-8743-6917a8d34c60')\"\n",
              "              title=\"Convert this dataframe to an interactive table.\"\n",
              "              style=\"display:none;\">\n",
              "        \n",
              "  <svg xmlns=\"http://www.w3.org/2000/svg\" height=\"24px\"viewBox=\"0 0 24 24\"\n",
              "       width=\"24px\">\n",
              "    <path d=\"M0 0h24v24H0V0z\" fill=\"none\"/>\n",
              "    <path d=\"M18.56 5.44l.94 2.06.94-2.06 2.06-.94-2.06-.94-.94-2.06-.94 2.06-2.06.94zm-11 1L8.5 8.5l.94-2.06 2.06-.94-2.06-.94L8.5 2.5l-.94 2.06-2.06.94zm10 10l.94 2.06.94-2.06 2.06-.94-2.06-.94-.94-2.06-.94 2.06-2.06.94z\"/><path d=\"M17.41 7.96l-1.37-1.37c-.4-.4-.92-.59-1.43-.59-.52 0-1.04.2-1.43.59L10.3 9.45l-7.72 7.72c-.78.78-.78 2.05 0 2.83L4 21.41c.39.39.9.59 1.41.59.51 0 1.02-.2 1.41-.59l7.78-7.78 2.81-2.81c.8-.78.8-2.07 0-2.86zM5.41 20L4 18.59l7.72-7.72 1.47 1.35L5.41 20z\"/>\n",
              "  </svg>\n",
              "      </button>\n",
              "      \n",
              "  <style>\n",
              "    .colab-df-container {\n",
              "      display:flex;\n",
              "      flex-wrap:wrap;\n",
              "      gap: 12px;\n",
              "    }\n",
              "\n",
              "    .colab-df-convert {\n",
              "      background-color: #E8F0FE;\n",
              "      border: none;\n",
              "      border-radius: 50%;\n",
              "      cursor: pointer;\n",
              "      display: none;\n",
              "      fill: #1967D2;\n",
              "      height: 32px;\n",
              "      padding: 0 0 0 0;\n",
              "      width: 32px;\n",
              "    }\n",
              "\n",
              "    .colab-df-convert:hover {\n",
              "      background-color: #E2EBFA;\n",
              "      box-shadow: 0px 1px 2px rgba(60, 64, 67, 0.3), 0px 1px 3px 1px rgba(60, 64, 67, 0.15);\n",
              "      fill: #174EA6;\n",
              "    }\n",
              "\n",
              "    [theme=dark] .colab-df-convert {\n",
              "      background-color: #3B4455;\n",
              "      fill: #D2E3FC;\n",
              "    }\n",
              "\n",
              "    [theme=dark] .colab-df-convert:hover {\n",
              "      background-color: #434B5C;\n",
              "      box-shadow: 0px 1px 3px 1px rgba(0, 0, 0, 0.15);\n",
              "      filter: drop-shadow(0px 1px 2px rgba(0, 0, 0, 0.3));\n",
              "      fill: #FFFFFF;\n",
              "    }\n",
              "  </style>\n",
              "\n",
              "      <script>\n",
              "        const buttonEl =\n",
              "          document.querySelector('#df-c4183643-12de-4064-8743-6917a8d34c60 button.colab-df-convert');\n",
              "        buttonEl.style.display =\n",
              "          google.colab.kernel.accessAllowed ? 'block' : 'none';\n",
              "\n",
              "        async function convertToInteractive(key) {\n",
              "          const element = document.querySelector('#df-c4183643-12de-4064-8743-6917a8d34c60');\n",
              "          const dataTable =\n",
              "            await google.colab.kernel.invokeFunction('convertToInteractive',\n",
              "                                                     [key], {});\n",
              "          if (!dataTable) return;\n",
              "\n",
              "          const docLinkHtml = 'Like what you see? Visit the ' +\n",
              "            '<a target=\"_blank\" href=https://colab.research.google.com/notebooks/data_table.ipynb>data table notebook</a>'\n",
              "            + ' to learn more about interactive tables.';\n",
              "          element.innerHTML = '';\n",
              "          dataTable['output_type'] = 'display_data';\n",
              "          await google.colab.output.renderOutput(dataTable, element);\n",
              "          const docLink = document.createElement('div');\n",
              "          docLink.innerHTML = docLinkHtml;\n",
              "          element.appendChild(docLink);\n",
              "        }\n",
              "      </script>\n",
              "    </div>\n",
              "  </div>\n",
              "  "
            ]
          },
          "metadata": {},
          "execution_count": 6
        }
      ]
    },
    {
      "cell_type": "markdown",
      "source": [
        "***value_1***: 미세각질(0,1,2,3 중 1개 값)\n",
        "\n",
        "***value_2***: 피지과다(0,1,2,3 중 1개 값)\n",
        "\n",
        "***value_3***: 모낭사이홍반(0,1,2,3 중 1개 값)\n",
        "\n",
        "***value_4***: 모낭홍반/농포(0,1,2,3 중 1개 값)\n",
        "\n",
        "***value_5***: 비듬(0,1,2,3 중 1개 값)\n",
        "\n",
        "***value_6***: 탈모(0,1,2,3 중 1개 값)"
      ],
      "metadata": {
        "id": "flVMNCd6gkBz"
      }
    },
    {
      "cell_type": "markdown",
      "source": [
        "## 3.1.1 시각화"
      ],
      "metadata": {
        "id": "L-nraOAEv0Lx"
      }
    },
    {
      "cell_type": "code",
      "source": [
        "# 그래프 x축 정렬을 위해 int 타입으로 변환\n",
        "df_1 = df_1.astype({'value_1':'int','value_2':'int', 'value_3':'int', 'value_4':'int', 'value_5':'int', 'value_6':'int'})"
      ],
      "metadata": {
        "id": "f6taJPrgHa9g"
      },
      "execution_count": 7,
      "outputs": []
    },
    {
      "cell_type": "code",
      "source": [
        "df_1.dtypes"
      ],
      "metadata": {
        "colab": {
          "base_uri": "https://localhost:8080/"
        },
        "id": "kfGmlkzBH3AJ",
        "outputId": "2bff5db5-a736-4c38-f4c1-b2d78cadeeed"
      },
      "execution_count": 8,
      "outputs": [
        {
          "output_type": "execute_result",
          "data": {
            "text/plain": [
              "image_id           object\n",
              "image_file_name    object\n",
              "value_1             int64\n",
              "value_2             int64\n",
              "value_3             int64\n",
              "value_4             int64\n",
              "value_5             int64\n",
              "value_6             int64\n",
              "dtype: object"
            ]
          },
          "metadata": {},
          "execution_count": 8
        }
      ]
    },
    {
      "cell_type": "code",
      "source": [
        "#미세각질 데이터 분포\n",
        "plt.figure(figsize=(17,8))\n",
        "ax = sns.countplot(x='value_1', data=df_1)\n",
        "for p in ax.patches:\n",
        "    height = p.get_height()\n",
        "    ax.text(p.get_x() + p.get_width() / 2., height + 3, height, ha = 'center', size = 9)\n",
        "plt.show()"
      ],
      "metadata": {
        "colab": {
          "base_uri": "https://localhost:8080/",
          "height": 498
        },
        "id": "HKiv_E7viEhG",
        "outputId": "822c271e-cd6a-4f8e-f90c-35f85f5a596c"
      },
      "execution_count": 9,
      "outputs": [
        {
          "output_type": "display_data",
          "data": {
            "text/plain": [
              "<Figure size 1224x576 with 1 Axes>"
            ],
            "image/png": "[encoded data removed]"
          },
          "metadata": {
            "needs_background": "light"
          }
        }
      ]
    },
    {
      "cell_type": "code",
      "source": [
        "# 피지과다\n",
        "plt.figure(figsize=(17,8))\n",
        "ax = sns.countplot(x='value_1', data=df_1.sort_values(by = 'value_2'), hue='value_2')\n",
        "for p in ax.patches:\n",
        "    height = p.get_height()\n",
        "    ax.text(p.get_x() + p.get_width() / 2., height + 3, height, ha = 'center', size = 9)\n",
        "plt.show()"
      ],
      "metadata": {
        "colab": {
          "base_uri": "https://localhost:8080/",
          "height": 607
        },
        "id": "OgTqvQUAhOti",
        "outputId": "b6eed759-b2a7-445f-f3d6-907599d8e180"
      },
      "execution_count": 10,
      "outputs": [
        {
          "output_type": "stream",
          "name": "stderr",
          "text": [
            "WARNING:matplotlib.text:posx and posy should be finite values\n",
            "WARNING:matplotlib.text:posx and posy should be finite values\n",
            "WARNING:matplotlib.text:posx and posy should be finite values\n",
            "WARNING:matplotlib.text:posx and posy should be finite values\n",
            "WARNING:matplotlib.text:posx and posy should be finite values\n",
            "WARNING:matplotlib.text:posx and posy should be finite values\n"
          ]
        },
        {
          "output_type": "display_data",
          "data": {
            "text/plain": [
              "<Figure size 1224x576 with 1 Axes>"
            ],
            "image/png": "[encoded data removed]"
          },
          "metadata": {
            "needs_background": "light"
          }
        }
      ]
    },
    {
      "cell_type": "code",
      "source": [
        "# 모낭사이홍반\n",
        "plt.figure(figsize=(17,8))\n",
        "ax = sns.countplot(x='value_1', data=df_1.sort_values(by = 'value_3'), hue='value_3')\n",
        "for p in ax.patches:\n",
        "    height = p.get_height()\n",
        "    ax.text(p.get_x() + p.get_width() / 2., height + 3, height, ha = 'center', size = 9)\n",
        "plt.show()"
      ],
      "metadata": {
        "colab": {
          "base_uri": "https://localhost:8080/",
          "height": 607
        },
        "id": "FO9tMIf3iS-q",
        "outputId": "12f59c12-d9a4-433b-e812-9bf14aaad196"
      },
      "execution_count": 11,
      "outputs": [
        {
          "output_type": "stream",
          "name": "stderr",
          "text": [
            "WARNING:matplotlib.text:posx and posy should be finite values\n",
            "WARNING:matplotlib.text:posx and posy should be finite values\n",
            "WARNING:matplotlib.text:posx and posy should be finite values\n",
            "WARNING:matplotlib.text:posx and posy should be finite values\n",
            "WARNING:matplotlib.text:posx and posy should be finite values\n",
            "WARNING:matplotlib.text:posx and posy should be finite values\n"
          ]
        },
        {
          "output_type": "display_data",
          "data": {
            "text/plain": [
              "<Figure size 1224x576 with 1 Axes>"
            ],
            "image/png": "[encoded data removed]"
          },
          "metadata": {
            "needs_background": "light"
          }
        }
      ]
    },
    {
      "cell_type": "code",
      "source": [
        "# 모낭홍반/농포\n",
        "plt.figure(figsize=(17,8))\n",
        "ax = sns.countplot(x='value_1', data=df_1.sort_values(by = 'value_4'), hue='value_4')\n",
        "for p in ax.patches:\n",
        "    height = p.get_height()\n",
        "    ax.text(p.get_x() + p.get_width() / 2., height + 3, height, ha = 'center', size = 9)\n",
        "plt.show()"
      ],
      "metadata": {
        "colab": {
          "base_uri": "https://localhost:8080/",
          "height": 607
        },
        "id": "CjRSOPpiiTXn",
        "outputId": "a8c867b1-c941-4f2e-9da9-4d72690ca69b"
      },
      "execution_count": 12,
      "outputs": [
        {
          "output_type": "stream",
          "name": "stderr",
          "text": [
            "WARNING:matplotlib.text:posx and posy should be finite values\n",
            "WARNING:matplotlib.text:posx and posy should be finite values\n",
            "WARNING:matplotlib.text:posx and posy should be finite values\n",
            "WARNING:matplotlib.text:posx and posy should be finite values\n",
            "WARNING:matplotlib.text:posx and posy should be finite values\n",
            "WARNING:matplotlib.text:posx and posy should be finite values\n"
          ]
        },
        {
          "output_type": "display_data",
          "data": {
            "text/plain": [
              "<Figure size 1224x576 with 1 Axes>"
            ],
            "image/png": "[encoded data removed]"
          },
          "metadata": {
            "needs_background": "light"
          }
        }
      ]
    },
    {
      "cell_type": "code",
      "source": [
        "# 비듬\n",
        "plt.figure(figsize=(17,8))\n",
        "ax = sns.countplot(x='value_1', data=df_1.sort_values(by = 'value_5'), hue='value_5')\n",
        "for p in ax.patches:\n",
        "    height = p.get_height()\n",
        "    ax.text(p.get_x() + p.get_width() / 2., height + 3, height, ha = 'center', size = 9)\n",
        "plt.show()"
      ],
      "metadata": {
        "colab": {
          "base_uri": "https://localhost:8080/",
          "height": 607
        },
        "id": "xFYrITWkiTmb",
        "outputId": "cd536981-f2bf-4558-84d0-dc12dc3b7ff3"
      },
      "execution_count": 13,
      "outputs": [
        {
          "output_type": "stream",
          "name": "stderr",
          "text": [
            "WARNING:matplotlib.text:posx and posy should be finite values\n",
            "WARNING:matplotlib.text:posx and posy should be finite values\n",
            "WARNING:matplotlib.text:posx and posy should be finite values\n",
            "WARNING:matplotlib.text:posx and posy should be finite values\n",
            "WARNING:matplotlib.text:posx and posy should be finite values\n",
            "WARNING:matplotlib.text:posx and posy should be finite values\n"
          ]
        },
        {
          "output_type": "display_data",
          "data": {
            "text/plain": [
              "<Figure size 1224x576 with 1 Axes>"
            ],
            "image/png": "[encoded data removed]"
          },
          "metadata": {
            "needs_background": "light"
          }
        }
      ]
    },
    {
      "cell_type": "code",
      "source": [
        "# 탈모\n",
        "plt.figure(figsize=(17,8))\n",
        "ax = sns.countplot(x='value_1', data=df_1.sort_values(by = 'value_6'), hue='value_6')\n",
        "for p in ax.patches:\n",
        "    height = p.get_height()\n",
        "    ax.text(p.get_x() + p.get_width() / 2., height + 3, height, ha = 'center', size = 9)\n",
        "plt.show()"
      ],
      "metadata": {
        "colab": {
          "base_uri": "https://localhost:8080/",
          "height": 607
        },
        "id": "6HmiplNziTzN",
        "outputId": "c11be84a-fb87-4fa9-c122-3e6523f9178f"
      },
      "execution_count": 14,
      "outputs": [
        {
          "output_type": "stream",
          "name": "stderr",
          "text": [
            "WARNING:matplotlib.text:posx and posy should be finite values\n",
            "WARNING:matplotlib.text:posx and posy should be finite values\n",
            "WARNING:matplotlib.text:posx and posy should be finite values\n",
            "WARNING:matplotlib.text:posx and posy should be finite values\n",
            "WARNING:matplotlib.text:posx and posy should be finite values\n",
            "WARNING:matplotlib.text:posx and posy should be finite values\n"
          ]
        },
        {
          "output_type": "display_data",
          "data": {
            "text/plain": [
              "<Figure size 1224x576 with 1 Axes>"
            ],
            "image/png": "[encoded data removed]"
          },
          "metadata": {
            "needs_background": "light"
          }
        }
      ]
    },
    {
      "cell_type": "markdown",
      "source": [
        "count plot을 확인해본 결과,\n",
        "\n",
        "- value 2, 4 (피지과다, 모낭홍반/농포)는 미세각질 강도가 증가하여도 눈에 띄게 강도 0 값이 많은 것을 확인하였다.\n",
        "- ***가설 1: 미세각질과 피지과다/모낭홍반/농포는 동반되는 경우가 드물다.***\n",
        "\n",
        "- value 3 (모낭사이홍반)은 미세각질 강도가 증가함에 따라 강도 1, 2, 3을 합한 값이 0보다 확연히 많다. 증상이 있는 경우가 많다.\n",
        "- ***가설 2: 미세각질, 모낭사이홍반 증상은 함께 동반되는 경우가 많다.***\n",
        "\n",
        "\n",
        "\n",
        "=> 다른 데이터도 이러한 방법으로 확인할 수 있다.\n",
        "\n",
        "=> 제품을 추천할 때 유용할 것이다.\n",
        "\n",
        "***미세각질***\n",
        "- 두피표면의 천연보습인자(NMF) 부족과 피지선 기능이 저하되어 조기 박리증 증상을 보인다.\n",
        "- 잔 각질이 관찰되며 모공 주변으로 나이테 모양의 각질층을 형성한다.\n",
        "- 유수분의 부족으로 당김현상이나 가려움증을 호소한다.\n",
        "\n",
        "***피지과다***\n",
        "- 피지분비 과다로 두피 표면이 번들거리고 두피색은 탁하다.\n",
        "- 심한 경우 피지산화 및 세균으로 인한 악취, 떡비듬, 지루성염증을 동반하기도 한다.\n",
        "\n",
        "***모낭홍반/농포***\n",
        "- 두피가 붉은 색을 띠며 표면에 홍반이 확인되는 경우가 있다.\n",
        "- 세균감염으로 인한 염증이 있다.\n",
        "\n",
        "***모낭사이홍반***\n",
        "- 두피에 모세혈관 확장으로 인하여 홍반이나 출혈이 보인다.\n",
        "- 태양열이나 에어컨바람과 같은 약한 자극에도 두피가 쉽게 붉어지고 통증이 있을 수 있다.\n",
        "\n",
        "\n",
        "**미세각질 증상의 고객에게 제품을 추천한다면?**\n",
        "- 건성 두피용 (유수분 부족 해결)\n",
        "- 두피 염증은 크게 고려하지 않아도 된다.\n",
        "- 약한 자극에도 통증이 있기 때문에 민감성 제품 추천\n",
        "\n",
        "\n",
        "\n"
      ],
      "metadata": {
        "id": "pepmnPoJnTeR"
      }
    },
    {
      "cell_type": "markdown",
      "source": [
        "## 3.1.2 상관관계 분석\n",
        "***스피어만 상관 계수***\n",
        "- 스피어만 상관 계수는 두 데이터의 실제 값 대신 두 값의 **순위**를 사용해 상관 계수를 계산하는 방식이다.\n",
        "- 피어슨 상관 계수와 달리 **비선형 관계의 연관성을 파악할 수 있다**는 장점이 있다.\n",
        "- 또한, 연속형 데이터에 적합한 피어슨 상관 계수와 달리 **이산형 데이터, 순서형 데이터에 적용이 가능하다.**\n",
        "\n",
        "***=> 각 value의 값들이 이산형이므로 스피어만 상관 계수 사용***\n",
        "\n"
      ],
      "metadata": {
        "id": "sr3Ne0vDv57X"
      }
    },
    {
      "cell_type": "code",
      "source": [
        "cols = df_1.columns[[2,3,4,5,6,7]]\n",
        "sns.heatmap(df_1[cols].corr(method = 'spearman'), annot=True)\n",
        "plt.show()"
      ],
      "metadata": {
        "colab": {
          "base_uri": "https://localhost:8080/",
          "height": 270
        },
        "id": "ytLI5uIcu5xf",
        "outputId": "df798523-1dc7-49cc-93ff-6c8ac2619075"
      },
      "execution_count": 29,
      "outputs": [
        {
          "output_type": "display_data",
          "data": {
            "text/plain": [
              "<Figure size 432x288 with 2 Axes>"
            ],
            "image/png": "[encoded data removed]"
          },
          "metadata": {
            "needs_background": "light"
          }
        }
      ]
    },
    {
      "cell_type": "markdown",
      "source": [
        "# 3.2 데이터 분석 (탈모)"
      ],
      "metadata": {
        "id": "-fNFxy5cPy6I"
      }
    },
    {
      "cell_type": "code",
      "source": [
        "li_6 = [\"라벨_탈모_0\", \"라벨_탈모_1\", \"라벨_탈모_2\", \"라벨_탈모_3\"]"
      ],
      "metadata": {
        "id": "kMa5hdc7xl8R"
      },
      "execution_count": 16,
      "outputs": []
    },
    {
      "cell_type": "code",
      "source": [
        "%cd /content/drive/MyDrive/Project4/Dataset/라벨_탈모_0\n",
        "!unzip -qq '/content/drive/MyDrive/Project4/Dataset/[라벨]탈모_0.양호.zip'"
      ],
      "metadata": {
        "colab": {
          "base_uri": "https://localhost:8080/"
        },
        "id": "-QJWpqCEyzGr",
        "outputId": "f711a2fd-9eec-4c33-a8bb-413f847bb6e1"
      },
      "execution_count": null,
      "outputs": [
        {
          "output_type": "stream",
          "name": "stdout",
          "text": [
            "/content/drive/MyDrive/Project4/Dataset/라벨_탈모_0\n"
          ]
        }
      ]
    },
    {
      "cell_type": "code",
      "source": [
        "%cd /content/drive/MyDrive/Project4/Dataset/라벨_탈모_1\n",
        "!unzip -qq '/content/drive/MyDrive/Project4/Dataset/[라벨]탈모_1.경증.zip'"
      ],
      "metadata": {
        "colab": {
          "base_uri": "https://localhost:8080/"
        },
        "id": "RzyNAQQmy9-M",
        "outputId": "a1e8f928-7c0d-4c14-bd86-159b8998dc6c"
      },
      "execution_count": null,
      "outputs": [
        {
          "output_type": "stream",
          "name": "stdout",
          "text": [
            "/content/drive/MyDrive/Project4/Dataset/라벨_탈모_1\n"
          ]
        }
      ]
    },
    {
      "cell_type": "code",
      "source": [
        "%cd /content/drive/MyDrive/Project4/Dataset/라벨_탈모_2\n",
        "!unzip -qq '/content/drive/MyDrive/Project4/Dataset/[라벨]탈모_2.중등도.zip'"
      ],
      "metadata": {
        "colab": {
          "base_uri": "https://localhost:8080/"
        },
        "id": "t-zZskhby-EW",
        "outputId": "699dadb2-1fd0-4997-b45d-6fc109814e88"
      },
      "execution_count": null,
      "outputs": [
        {
          "output_type": "stream",
          "name": "stdout",
          "text": [
            "/content/drive/MyDrive/Project4/Dataset/라벨_탈모_2\n"
          ]
        }
      ]
    },
    {
      "cell_type": "code",
      "source": [
        "%cd /content/drive/MyDrive/Project4/Dataset/라벨_탈모_3\n",
        "!unzip -qq '/content/drive/MyDrive/Project4/Dataset/[라벨]탈모_3.중증.zip'"
      ],
      "metadata": {
        "colab": {
          "base_uri": "https://localhost:8080/"
        },
        "id": "5h5NnKqjy-Lc",
        "outputId": "58b4184f-f038-467e-ee39-a0cfccc50d49"
      },
      "execution_count": null,
      "outputs": [
        {
          "output_type": "stream",
          "name": "stdout",
          "text": [
            "/content/drive/MyDrive/Project4/Dataset/라벨_탈모_3\n"
          ]
        }
      ]
    },
    {
      "cell_type": "code",
      "source": [
        "df_6 = openJson(li_6)"
      ],
      "metadata": {
        "colab": {
          "base_uri": "https://localhost:8080/"
        },
        "id": "VDehd4ETyla3",
        "outputId": "7e4183db-b041-4d4a-b0ff-c311f7f5d17a"
      },
      "execution_count": 17,
      "outputs": [
        {
          "output_type": "stream",
          "name": "stdout",
          "text": [
            "/content/drive/MyDrive/Project4/Dataset/라벨_탈모_0/\n",
            "152\n",
            "/content/drive/MyDrive/Project4/Dataset/라벨_탈모_1/\n",
            "3813\n",
            "/content/drive/MyDrive/Project4/Dataset/라벨_탈모_2/\n",
            "1084\n",
            "/content/drive/MyDrive/Project4/Dataset/라벨_탈모_3/\n",
            "239\n"
          ]
        }
      ]
    },
    {
      "cell_type": "code",
      "source": [
        "df_6"
      ],
      "metadata": {
        "colab": {
          "base_uri": "https://localhost:8080/",
          "height": 424
        },
        "id": "vWOiCTnT2etN",
        "outputId": "1b6ecf3f-eedc-45c1-e251-9fd307c182c7"
      },
      "execution_count": 18,
      "outputs": [
        {
          "output_type": "execute_result",
          "data": {
            "text/plain": [
              "                                  image_id  \\\n",
              "0     8896_A2LEBJJDE001807_1606455960324_3   \n",
              "1         8781_A2LEBJJDE000906_539482042_3   \n",
              "2     8814_A2LEBJJDE00118S_1603072051977_4   \n",
              "3     9414_A2LEBJJDE00033L_1605521474634_6   \n",
              "4     7297_A2LEBJJDE00151I_1606701309614_4   \n",
              "...                                    ...   \n",
              "5279  1981_A2LEBJJDE001493_1606634009469_5   \n",
              "5280  0715_A2LEBJJDE00175D_1608812596197_3   \n",
              "5281  4370_A1LCAIHDH00005Q_1607837222616_5   \n",
              "5282  4970_A1LCAIHDH00010K_1608355030996_5   \n",
              "5283  8297_A2LEBJJDE001076_1607322755114_3   \n",
              "\n",
              "                                  image_file_name value_1 value_2 value_3  \\\n",
              "0     8896_A2LEBJJDE001807_1606455960324_3_TH.jpg       0       0       0   \n",
              "1         8781_A2LEBJJDE000906_539482042_3_TH.jpg       0       0       0   \n",
              "2     8814_A2LEBJJDE00118S_1603072051977_4_LH.jpg       0       0       0   \n",
              "3     9414_A2LEBJJDE00033L_1605521474634_6_BH.jpg       0       0       0   \n",
              "4     7297_A2LEBJJDE00151I_1606701309614_4_LH.jpg       0       0       0   \n",
              "...                                           ...     ...     ...     ...   \n",
              "5279  1981_A2LEBJJDE001493_1606634009469_5_RH.jpg       2       0       2   \n",
              "5280  0715_A2LEBJJDE00175D_1608812596197_3_TH.jpg       0       2       1   \n",
              "5281  4370_A1LCAIHDH00005Q_1607837222616_5_RH.jpg       1       0       0   \n",
              "5282  4970_A1LCAIHDH00010K_1608355030996_5_RH.jpg       0       1       0   \n",
              "5283  8297_A2LEBJJDE001076_1607322755114_3_TH.jpg       0       1       2   \n",
              "\n",
              "     value_4 value_5 value_6  \n",
              "0          0       0       0  \n",
              "1          0       0       0  \n",
              "2          0       0       0  \n",
              "3          0       0       0  \n",
              "4          0       0       0  \n",
              "...      ...     ...     ...  \n",
              "5279       0       0       3  \n",
              "5280       0       0       3  \n",
              "5281       0       0       3  \n",
              "5282       0       0       3  \n",
              "5283       0       0       3  \n",
              "\n",
              "[5284 rows x 8 columns]"
            ],
            "text/html": [
              "\n",
              "  <div id=\"df-58950465-4c52-4af6-8547-cecb2ce6c8de\">\n",
              "    <div class=\"colab-df-container\">\n",
              "      <div>\n",
              "<style scoped>\n",
              "    .dataframe tbody tr th:only-of-type {\n",
              "        vertical-align: middle;\n",
              "    }\n",
              "\n",
              "    .dataframe tbody tr th {\n",
              "        vertical-align: top;\n",
              "    }\n",
              "\n",
              "    .dataframe thead th {\n",
              "        text-align: right;\n",
              "    }\n",
              "</style>\n",
              "<table border=\"1\" class=\"dataframe\">\n",
              "  <thead>\n",
              "    <tr style=\"text-align: right;\">\n",
              "      <th></th>\n",
              "      <th>image_id</th>\n",
              "      <th>image_file_name</th>\n",
              "      <th>value_1</th>\n",
              "      <th>value_2</th>\n",
              "      <th>value_3</th>\n",
              "      <th>value_4</th>\n",
              "      <th>value_5</th>\n",
              "      <th>value_6</th>\n",
              "    </tr>\n",
              "  </thead>\n",
              "  <tbody>\n",
              "    <tr>\n",
              "      <th>0</th>\n",
              "      <td>8896_A2LEBJJDE001807_1606455960324_3</td>\n",
              "      <td>8896_A2LEBJJDE001807_1606455960324_3_TH.jpg</td>\n",
              "      <td>0</td>\n",
              "      <td>0</td>\n",
              "      <td>0</td>\n",
              "      <td>0</td>\n",
              "      <td>0</td>\n",
              "      <td>0</td>\n",
              "    </tr>\n",
              "    <tr>\n",
              "      <th>1</th>\n",
              "      <td>8781_A2LEBJJDE000906_539482042_3</td>\n",
              "      <td>8781_A2LEBJJDE000906_539482042_3_TH.jpg</td>\n",
              "      <td>0</td>\n",
              "      <td>0</td>\n",
              "      <td>0</td>\n",
              "      <td>0</td>\n",
              "      <td>0</td>\n",
              "      <td>0</td>\n",
              "    </tr>\n",
              "    <tr>\n",
              "      <th>2</th>\n",
              "      <td>8814_A2LEBJJDE00118S_1603072051977_4</td>\n",
              "      <td>8814_A2LEBJJDE00118S_1603072051977_4_LH.jpg</td>\n",
              "      <td>0</td>\n",
              "      <td>0</td>\n",
              "      <td>0</td>\n",
              "      <td>0</td>\n",
              "      <td>0</td>\n",
              "      <td>0</td>\n",
              "    </tr>\n",
              "    <tr>\n",
              "      <th>3</th>\n",
              "      <td>9414_A2LEBJJDE00033L_1605521474634_6</td>\n",
              "      <td>9414_A2LEBJJDE00033L_1605521474634_6_BH.jpg</td>\n",
              "      <td>0</td>\n",
              "      <td>0</td>\n",
              "      <td>0</td>\n",
              "      <td>0</td>\n",
              "      <td>0</td>\n",
              "      <td>0</td>\n",
              "    </tr>\n",
              "    <tr>\n",
              "      <th>4</th>\n",
              "      <td>7297_A2LEBJJDE00151I_1606701309614_4</td>\n",
              "      <td>7297_A2LEBJJDE00151I_1606701309614_4_LH.jpg</td>\n",
              "      <td>0</td>\n",
              "      <td>0</td>\n",
              "      <td>0</td>\n",
              "      <td>0</td>\n",
              "      <td>0</td>\n",
              "      <td>0</td>\n",
              "    </tr>\n",
              "    <tr>\n",
              "      <th>...</th>\n",
              "      <td>...</td>\n",
              "      <td>...</td>\n",
              "      <td>...</td>\n",
              "      <td>...</td>\n",
              "      <td>...</td>\n",
              "      <td>...</td>\n",
              "      <td>...</td>\n",
              "      <td>...</td>\n",
              "    </tr>\n",
              "    <tr>\n",
              "      <th>5279</th>\n",
              "      <td>1981_A2LEBJJDE001493_1606634009469_5</td>\n",
              "      <td>1981_A2LEBJJDE001493_1606634009469_5_RH.jpg</td>\n",
              "      <td>2</td>\n",
              "      <td>0</td>\n",
              "      <td>2</td>\n",
              "      <td>0</td>\n",
              "      <td>0</td>\n",
              "      <td>3</td>\n",
              "    </tr>\n",
              "    <tr>\n",
              "      <th>5280</th>\n",
              "      <td>0715_A2LEBJJDE00175D_1608812596197_3</td>\n",
              "      <td>0715_A2LEBJJDE00175D_1608812596197_3_TH.jpg</td>\n",
              "      <td>0</td>\n",
              "      <td>2</td>\n",
              "      <td>1</td>\n",
              "      <td>0</td>\n",
              "      <td>0</td>\n",
              "      <td>3</td>\n",
              "    </tr>\n",
              "    <tr>\n",
              "      <th>5281</th>\n",
              "      <td>4370_A1LCAIHDH00005Q_1607837222616_5</td>\n",
              "      <td>4370_A1LCAIHDH00005Q_1607837222616_5_RH.jpg</td>\n",
              "      <td>1</td>\n",
              "      <td>0</td>\n",
              "      <td>0</td>\n",
              "      <td>0</td>\n",
              "      <td>0</td>\n",
              "      <td>3</td>\n",
              "    </tr>\n",
              "    <tr>\n",
              "      <th>5282</th>\n",
              "      <td>4970_A1LCAIHDH00010K_1608355030996_5</td>\n",
              "      <td>4970_A1LCAIHDH00010K_1608355030996_5_RH.jpg</td>\n",
              "      <td>0</td>\n",
              "      <td>1</td>\n",
              "      <td>0</td>\n",
              "      <td>0</td>\n",
              "      <td>0</td>\n",
              "      <td>3</td>\n",
              "    </tr>\n",
              "    <tr>\n",
              "      <th>5283</th>\n",
              "      <td>8297_A2LEBJJDE001076_1607322755114_3</td>\n",
              "      <td>8297_A2LEBJJDE001076_1607322755114_3_TH.jpg</td>\n",
              "      <td>0</td>\n",
              "      <td>1</td>\n",
              "      <td>2</td>\n",
              "      <td>0</td>\n",
              "      <td>0</td>\n",
              "      <td>3</td>\n",
              "    </tr>\n",
              "  </tbody>\n",
              "</table>\n",
              "<p>5284 rows × 8 columns</p>\n",
              "</div>\n",
              "      <button class=\"colab-df-convert\" onclick=\"convertToInteractive('df-58950465-4c52-4af6-8547-cecb2ce6c8de')\"\n",
              "              title=\"Convert this dataframe to an interactive table.\"\n",
              "              style=\"display:none;\">\n",
              "        \n",
              "  <svg xmlns=\"http://www.w3.org/2000/svg\" height=\"24px\"viewBox=\"0 0 24 24\"\n",
              "       width=\"24px\">\n",
              "    <path d=\"M0 0h24v24H0V0z\" fill=\"none\"/>\n",
              "    <path d=\"M18.56 5.44l.94 2.06.94-2.06 2.06-.94-2.06-.94-.94-2.06-.94 2.06-2.06.94zm-11 1L8.5 8.5l.94-2.06 2.06-.94-2.06-.94L8.5 2.5l-.94 2.06-2.06.94zm10 10l.94 2.06.94-2.06 2.06-.94-2.06-.94-.94-2.06-.94 2.06-2.06.94z\"/><path d=\"M17.41 7.96l-1.37-1.37c-.4-.4-.92-.59-1.43-.59-.52 0-1.04.2-1.43.59L10.3 9.45l-7.72 7.72c-.78.78-.78 2.05 0 2.83L4 21.41c.39.39.9.59 1.41.59.51 0 1.02-.2 1.41-.59l7.78-7.78 2.81-2.81c.8-.78.8-2.07 0-2.86zM5.41 20L4 18.59l7.72-7.72 1.47 1.35L5.41 20z\"/>\n",
              "  </svg>\n",
              "      </button>\n",
              "      \n",
              "  <style>\n",
              "    .colab-df-container {\n",
              "      display:flex;\n",
              "      flex-wrap:wrap;\n",
              "      gap: 12px;\n",
              "    }\n",
              "\n",
              "    .colab-df-convert {\n",
              "      background-color: #E8F0FE;\n",
              "      border: none;\n",
              "      border-radius: 50%;\n",
              "      cursor: pointer;\n",
              "      display: none;\n",
              "      fill: #1967D2;\n",
              "      height: 32px;\n",
              "      padding: 0 0 0 0;\n",
              "      width: 32px;\n",
              "    }\n",
              "\n",
              "    .colab-df-convert:hover {\n",
              "      background-color: #E2EBFA;\n",
              "      box-shadow: 0px 1px 2px rgba(60, 64, 67, 0.3), 0px 1px 3px 1px rgba(60, 64, 67, 0.15);\n",
              "      fill: #174EA6;\n",
              "    }\n",
              "\n",
              "    [theme=dark] .colab-df-convert {\n",
              "      background-color: #3B4455;\n",
              "      fill: #D2E3FC;\n",
              "    }\n",
              "\n",
              "    [theme=dark] .colab-df-convert:hover {\n",
              "      background-color: #434B5C;\n",
              "      box-shadow: 0px 1px 3px 1px rgba(0, 0, 0, 0.15);\n",
              "      filter: drop-shadow(0px 1px 2px rgba(0, 0, 0, 0.3));\n",
              "      fill: #FFFFFF;\n",
              "    }\n",
              "  </style>\n",
              "\n",
              "      <script>\n",
              "        const buttonEl =\n",
              "          document.querySelector('#df-58950465-4c52-4af6-8547-cecb2ce6c8de button.colab-df-convert');\n",
              "        buttonEl.style.display =\n",
              "          google.colab.kernel.accessAllowed ? 'block' : 'none';\n",
              "\n",
              "        async function convertToInteractive(key) {\n",
              "          const element = document.querySelector('#df-58950465-4c52-4af6-8547-cecb2ce6c8de');\n",
              "          const dataTable =\n",
              "            await google.colab.kernel.invokeFunction('convertToInteractive',\n",
              "                                                     [key], {});\n",
              "          if (!dataTable) return;\n",
              "\n",
              "          const docLinkHtml = 'Like what you see? Visit the ' +\n",
              "            '<a target=\"_blank\" href=https://colab.research.google.com/notebooks/data_table.ipynb>data table notebook</a>'\n",
              "            + ' to learn more about interactive tables.';\n",
              "          element.innerHTML = '';\n",
              "          dataTable['output_type'] = 'display_data';\n",
              "          await google.colab.output.renderOutput(dataTable, element);\n",
              "          const docLink = document.createElement('div');\n",
              "          docLink.innerHTML = docLinkHtml;\n",
              "          element.appendChild(docLink);\n",
              "        }\n",
              "      </script>\n",
              "    </div>\n",
              "  </div>\n",
              "  "
            ]
          },
          "metadata": {},
          "execution_count": 18
        }
      ]
    },
    {
      "cell_type": "markdown",
      "source": [
        "## 3.2.1 시각화"
      ],
      "metadata": {
        "id": "TELiKBIrwwxH"
      }
    },
    {
      "cell_type": "code",
      "source": [
        "# 그래프 x축 정렬을 위해 int 타입으로 변환\n",
        "df_6 = df_6.astype({'value_1':'int','value_2':'int', 'value_3':'int', 'value_4':'int', 'value_5':'int', 'value_6':'int'})"
      ],
      "metadata": {
        "id": "4cty2qdXmQVI"
      },
      "execution_count": 19,
      "outputs": []
    },
    {
      "cell_type": "code",
      "source": [
        "plt.figure(figsize=(17,8))\n",
        "ax = sns.countplot(x='value_6', data=df_6)\n",
        "for p in ax.patches:\n",
        "    height = p.get_height()\n",
        "    ax.text(p.get_x() + p.get_width() / 2., height + 3, height, ha = 'center', size = 9)\n",
        "plt.show()"
      ],
      "metadata": {
        "colab": {
          "base_uri": "https://localhost:8080/",
          "height": 501
        },
        "outputId": "c0f581d5-fc04-45e4-f8a2-476bc95239ac",
        "id": "vqTaQ2g12ykv"
      },
      "execution_count": 20,
      "outputs": [
        {
          "output_type": "display_data",
          "data": {
            "text/plain": [
              "<Figure size 1224x576 with 1 Axes>"
            ],
            "image/png": "[encoded data removed]"
          },
          "metadata": {
            "needs_background": "light"
          }
        }
      ]
    },
    {
      "cell_type": "code",
      "source": [
        "# 미세각질\n",
        "plt.figure(figsize=(17,8))\n",
        "ax = sns.countplot(x='value_6', data=df_6.sort_values(by = 'value_1'), hue='value_1')\n",
        "for p in ax.patches:\n",
        "    height = p.get_height()\n",
        "    ax.text(p.get_x() + p.get_width() / 2., height + 3, height, ha = 'center', size = 9)\n",
        "plt.show()"
      ],
      "metadata": {
        "colab": {
          "base_uri": "https://localhost:8080/",
          "height": 607
        },
        "outputId": "564efc4d-1cab-46ae-dac7-1f6467c005a3",
        "id": "a7FxsXLW2yky"
      },
      "execution_count": 21,
      "outputs": [
        {
          "output_type": "stream",
          "name": "stderr",
          "text": [
            "WARNING:matplotlib.text:posx and posy should be finite values\n",
            "WARNING:matplotlib.text:posx and posy should be finite values\n",
            "WARNING:matplotlib.text:posx and posy should be finite values\n",
            "WARNING:matplotlib.text:posx and posy should be finite values\n",
            "WARNING:matplotlib.text:posx and posy should be finite values\n",
            "WARNING:matplotlib.text:posx and posy should be finite values\n"
          ]
        },
        {
          "output_type": "display_data",
          "data": {
            "text/plain": [
              "<Figure size 1224x576 with 1 Axes>"
            ],
            "image/png": "[encoded data removed]"
          },
          "metadata": {
            "needs_background": "light"
          }
        }
      ]
    },
    {
      "cell_type": "code",
      "source": [
        "# 피지과다\n",
        "plt.figure(figsize=(17,8))\n",
        "ax = sns.countplot(x='value_6', data=df_6.sort_values(by = 'value_2'), hue='value_2')\n",
        "for p in ax.patches:\n",
        "    height = p.get_height()\n",
        "    ax.text(p.get_x() + p.get_width() / 2., height + 3, height, ha = 'center', size = 9)\n",
        "plt.show()"
      ],
      "metadata": {
        "colab": {
          "base_uri": "https://localhost:8080/",
          "height": 643
        },
        "outputId": "625647f3-52c4-4d68-f8c0-92652e8a47ed",
        "id": "qpMeBb1w2ykw"
      },
      "execution_count": 22,
      "outputs": [
        {
          "output_type": "stream",
          "name": "stderr",
          "text": [
            "WARNING:matplotlib.text:posx and posy should be finite values\n",
            "WARNING:matplotlib.text:posx and posy should be finite values\n",
            "WARNING:matplotlib.text:posx and posy should be finite values\n",
            "WARNING:matplotlib.text:posx and posy should be finite values\n",
            "WARNING:matplotlib.text:posx and posy should be finite values\n",
            "WARNING:matplotlib.text:posx and posy should be finite values\n",
            "WARNING:matplotlib.text:posx and posy should be finite values\n",
            "WARNING:matplotlib.text:posx and posy should be finite values\n"
          ]
        },
        {
          "output_type": "display_data",
          "data": {
            "text/plain": [
              "<Figure size 1224x576 with 1 Axes>"
            ],
            "image/png": "[encoded data removed]"
          },
          "metadata": {
            "needs_background": "light"
          }
        }
      ]
    },
    {
      "cell_type": "code",
      "source": [
        "# 모낭사이홍반\n",
        "plt.figure(figsize=(17,8))\n",
        "ax = sns.countplot(x='value_6', data=df_6.sort_values(by = 'value_3'), hue='value_3')\n",
        "for p in ax.patches:\n",
        "    height = p.get_height()\n",
        "    ax.text(p.get_x() + p.get_width() / 2., height + 3, height, ha = 'center', size = 9)\n",
        "plt.show()"
      ],
      "metadata": {
        "colab": {
          "base_uri": "https://localhost:8080/",
          "height": 607
        },
        "outputId": "9ae1eff6-e6d2-4aa4-9aad-882eeeeefcd5",
        "id": "Jx4B9skk2ykx"
      },
      "execution_count": 23,
      "outputs": [
        {
          "output_type": "stream",
          "name": "stderr",
          "text": [
            "WARNING:matplotlib.text:posx and posy should be finite values\n",
            "WARNING:matplotlib.text:posx and posy should be finite values\n",
            "WARNING:matplotlib.text:posx and posy should be finite values\n",
            "WARNING:matplotlib.text:posx and posy should be finite values\n",
            "WARNING:matplotlib.text:posx and posy should be finite values\n",
            "WARNING:matplotlib.text:posx and posy should be finite values\n"
          ]
        },
        {
          "output_type": "display_data",
          "data": {
            "text/plain": [
              "<Figure size 1224x576 with 1 Axes>"
            ],
            "image/png": "[encoded data removed]"
          },
          "metadata": {
            "needs_background": "light"
          }
        }
      ]
    },
    {
      "cell_type": "code",
      "source": [
        "# 모낭홍반/농포\n",
        "plt.figure(figsize=(17,8))\n",
        "ax = sns.countplot(x='value_6', data=df_6.sort_values(by = 'value_4'), hue='value_4')\n",
        "for p in ax.patches:\n",
        "    height = p.get_height()\n",
        "    ax.text(p.get_x() + p.get_width() / 2., height + 3, height, ha = 'center', size = 9)\n",
        "plt.show()"
      ],
      "metadata": {
        "colab": {
          "base_uri": "https://localhost:8080/",
          "height": 607
        },
        "outputId": "ef8e741c-dcdb-46d5-b7b6-81de35ff29d2",
        "id": "icFMS3k-2ykx"
      },
      "execution_count": 24,
      "outputs": [
        {
          "output_type": "stream",
          "name": "stderr",
          "text": [
            "WARNING:matplotlib.text:posx and posy should be finite values\n",
            "WARNING:matplotlib.text:posx and posy should be finite values\n",
            "WARNING:matplotlib.text:posx and posy should be finite values\n",
            "WARNING:matplotlib.text:posx and posy should be finite values\n",
            "WARNING:matplotlib.text:posx and posy should be finite values\n",
            "WARNING:matplotlib.text:posx and posy should be finite values\n"
          ]
        },
        {
          "output_type": "display_data",
          "data": {
            "text/plain": [
              "<Figure size 1224x576 with 1 Axes>"
            ],
            "image/png": "[encoded data removed]"
          },
          "metadata": {
            "needs_background": "light"
          }
        }
      ]
    },
    {
      "cell_type": "code",
      "source": [
        "# 비듬\n",
        "plt.figure(figsize=(17,8))\n",
        "ax = sns.countplot(x='value_6', data=df_6.sort_values(by = 'value_5'), hue='value_5')\n",
        "for p in ax.patches:\n",
        "    height = p.get_height()\n",
        "    ax.text(p.get_x() + p.get_width() / 2., height + 3, height, ha = 'center', size = 9)\n",
        "plt.show()"
      ],
      "metadata": {
        "colab": {
          "base_uri": "https://localhost:8080/",
          "height": 607
        },
        "outputId": "7a9bc2a4-d432-482a-c71c-1729e69338ae",
        "id": "cK3-Qz5p2ykx"
      },
      "execution_count": 25,
      "outputs": [
        {
          "output_type": "stream",
          "name": "stderr",
          "text": [
            "WARNING:matplotlib.text:posx and posy should be finite values\n",
            "WARNING:matplotlib.text:posx and posy should be finite values\n",
            "WARNING:matplotlib.text:posx and posy should be finite values\n",
            "WARNING:matplotlib.text:posx and posy should be finite values\n",
            "WARNING:matplotlib.text:posx and posy should be finite values\n",
            "WARNING:matplotlib.text:posx and posy should be finite values\n"
          ]
        },
        {
          "output_type": "display_data",
          "data": {
            "text/plain": [
              "<Figure size 1224x576 with 1 Axes>"
            ],
            "image/png": "[encoded data removed]"
          },
          "metadata": {
            "needs_background": "light"
          }
        }
      ]
    },
    {
      "cell_type": "markdown",
      "source": [
        "count polt을 확인해본 결과,\n",
        "\n",
        "- value 1, 4 (미세각질, 모낭홍반/농포)는 탈모 강도가 증가하여도 눈에 띄게 강도 0 값이 많은 것을 확인하였다.\n",
        "- ***가설 1: 탈모와 미세각질/모낭홍반/농포는 동반되는 경우가 드물다.***\n",
        "- value 2, 3 (피지과다, 모낭사이홍반)은 탈모 강도가 증가함에 따라 증상이 있는 경우가 확연히 많았다.\n",
        "- ***가설 2: 탈모, 피지과다, 모낭사이홍반 증상은 함께 동반되는 경우가 많다.***\n",
        "\n",
        "\n",
        "***탈모***\n",
        "- 모발이 있어야 할 부위에 없거나 연모화가 빠르게 진행되는 것이 특징이다.\n",
        "- 유전, 호르몬, 환경 등 복합적인 영향이 원인이다.\n",
        "- 환경적인 탈모의 경우 가려움을 동반하기도 하고 비듬과 피지분비량이 증가한다고 한다.\n",
        "- 유전적인 탈모의 경우 특별한 이상이 관찰되지 않으며, 밀도가 급격히 낮아지는 것이 특징이다.\n",
        "\n",
        "***미세각질***\n",
        "- 두피표면의 천연보습인자(NMF) 부족과 피지선 기능이 저하되어 조기 박리증 증상을 보인다.\n",
        "- 잔 각질이 관찰되며 모공 주변으로 나이테 모양의 각질층을 형성한다.\n",
        "- 유수분의 부족으로 당김현상이나 가려움증을 호소한다.\n",
        "\n",
        "***모낭홍반/농포***\n",
        "- 두피가 붉은 색을 띠며 표면에 홍반이 확인되는 경우가 있다.\n",
        "- 세균감염으로 인한 염증이 있다.\n",
        "\n",
        "***피지과다***\n",
        "- 피지분비 과다로 두피 표면이 번들거리고 두피색은 탁하다.\n",
        "- 모공에 물이 고여있는 것처럼 관찰되며 모발밀도가 낮다.\n",
        "- 심한 경우 피지산화 및 세균으로 인한 악취, 떡비듬, 지루성염증을 동반하기도 한다.\n",
        "\n",
        "***모낭사이홍반***\n",
        "- 두피에 모세혈관 확장으로 인하여 홍반이나 출혈이 보인다.\n",
        "- 태양열이나 에어컨바람과 같은 약한 자극에도 두피가 쉽게 붉어지고 통증이 있을 수 있다.\n",
        "\n",
        "**탈모 증상의 고객에게 제품을 추천한다면?**\n",
        "- 지성 두피용 (유수분 부족 해결)\n",
        "- 약한 자극에도 통증이 있기 때문에 민감성 제품 추천\n",
        "- 두피 염증은 크게 고려하지 않아도 된다.\n",
        "\n"
      ],
      "metadata": {
        "id": "A3IFEk-2ic8h"
      }
    },
    {
      "cell_type": "markdown",
      "source": [
        "## 3.2.2 상관관계 분석"
      ],
      "metadata": {
        "id": "66domXYUw3Wq"
      }
    },
    {
      "cell_type": "code",
      "source": [
        "cols = df_6.columns[[2,3,4,5,6,7]]\n",
        "sns.heatmap(df_6[cols].corr(method = 'spearman'), annot=True, cmap=\"RdBu\")\n",
        "plt.show()"
      ],
      "metadata": {
        "colab": {
          "base_uri": "https://localhost:8080/",
          "height": 270
        },
        "id": "7vHD8L1mrht0",
        "outputId": "565d32db-41e0-4f3a-c20d-ff6399238c20"
      },
      "execution_count": 26,
      "outputs": [
        {
          "output_type": "display_data",
          "data": {
            "text/plain": [
              "<Figure size 432x288 with 2 Axes>"
            ],
            "image/png": "[encoded data removed]"
          },
          "metadata": {
            "needs_background": "light"
          }
        }
      ]
    }
  ]
}